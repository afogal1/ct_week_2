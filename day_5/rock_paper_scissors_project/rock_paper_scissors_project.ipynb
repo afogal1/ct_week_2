{
 "cells": [
  {
   "cell_type": "code",
   "execution_count": null,
   "id": "4646b8fa",
   "metadata": {
    "scrolled": true
   },
   "outputs": [
    {
     "name": "stdout",
     "output_type": "stream",
     "text": [
      "Lets play Rock, Paper, Scissors\n"
     ]
    }
   ],
   "source": [
    " import rock"
   ]
  }
 ],
 "metadata": {
  "kernelspec": {
   "display_name": "Python 3 (ipykernel)",
   "language": "python",
   "name": "python3"
  },
  "language_info": {
   "codemirror_mode": {
    "name": "ipython",
    "version": 3
   },
   "file_extension": ".py",
   "mimetype": "text/x-python",
   "name": "python",
   "nbconvert_exporter": "python",
   "pygments_lexer": "ipython3",
   "version": "3.9.7"
  }
 },
 "nbformat": 4,
 "nbformat_minor": 5
}
